{
 "cells": [
  {
   "cell_type": "code",
   "execution_count": 3,
   "id": "ca234fc4",
   "metadata": {},
   "outputs": [],
   "source": [
    "from polyname import cde_func\n",
    "from polyname import uppercase\n",
    "from polyname import combine_files_cde\n",
    "from polyname import remove_duplicate_file\n",
    "from polyname import command_line_cde\n",
    "from polyname import polymer_extract\n",
    "import pandas as pd\n",
    "import os"
   ]
  },
  {
   "cell_type": "code",
   "execution_count": 2,
   "id": "ae386b4c",
   "metadata": {},
   "outputs": [
    {
     "name": "stdout",
     "output_type": "stream",
     "text": [
      "['Poly(oleðn)', 'Poly(ethylene)', 'Poly(ester)', 'Poly(caprolactone)', 'Poly(dioxanone)', 'Poly(vinyl alcohol)', 'Poly(a-ester)', 'Poly(hydroxyalkanoate)', 'Poly(p-dioxanone)', 'Poly(lactic\\nacid)', 'Poly(glycolic acid)', 'Poly(styrene)', 'Poly(carbonate)', 'Poly(propylene)', 'Poly(3-hydroxybutyrate\\npoly3-hydroxybutyrate-co-3-hydroxyvalerate)', 'Poly(dioxanone)', 'Poly(ester)', 'Poly(anhydride)']\n",
      "                                            All_names\n",
      "0                                          Polyoleðns\n",
      "1                                            Gelatins\n",
      "2                                                Phbv\n",
      "3                                        Polyethylene\n",
      "4                                                 Pla\n",
      "5                                          Polyesters\n",
      "6                                                Phas\n",
      "7                                                 Pga\n",
      "8                                  Poly(caprolactone)\n",
      "9                                                Pack\n",
      "10                                     Polydioxanones\n",
      "11                                               Plla\n",
      "12                                            Landðll\n",
      "13                                Poly(vinyl alcohol)\n",
      "14                                     Poly(a-ester)s\n",
      "15                                            Britain\n",
      "16                            Poly(hydroxyalkanoate)s\n",
      "17                                           Lactomer\n",
      "18                                              Dexon\n",
      "19                                            Methane\n",
      "20                                  Poly(p-dioxanone)\n",
      "21                                             Oxygen\n",
      "22                                             Nickel\n",
      "23                                 Poly(lactic\\nacid)\n",
      "24                                               Pira\n",
      "25                                               P3hb\n",
      "26                                             Biopol\n",
      "27                                            Naphtha\n",
      "28                                Poly(glycolic acid)\n",
      "29                                               Pgla\n",
      "30                                        Polystyrene\n",
      "31                                     Polycarbonates\n",
      "32                                        Packaging.8\n",
      "33                                             Vicryl\n",
      "34                                                Pva\n",
      "35                                      Polypropylene\n",
      "36                                             T ighe\n",
      "37                                          Petroleum\n",
      "38                                            Beneðts\n",
      "39  Poly(3-hydroxybutyrate)\\npoly(3-hydroxybutyrat...\n",
      "40                                      Polydioxanone\n",
      "41                                          70·7\\n3·2\n",
      "42                                          Polyester\n",
      "43                                       Plastic fate\n",
      "44                                              Vinyl\n",
      "45                                  Birmingham b4 7et\n",
      "46                                     Polyanhydrides\n",
      "47                                                Pcl\n"
     ]
    }
   ],
   "source": [
    "#RUN CDE ON ONE JSON FILE\n",
    "#variable set to path of a file\n",
    "file_path = 'cde_extract_example/example_article.pdf'\n",
    "#run cde_func which extracts all chemical entities and removes duplicates\n",
    "new_list = cde_func(file_path)\n",
    "#run upper case to make all terms capitalized \n",
    "final_list = uppercase(new_list)\n",
    "#polymer list using polymer extract function\n",
    "polymer_list = polymer_extract(final_list)\n",
    "print(polymer_list)\n",
    "df = pd.DataFrame(final_list, columns = [\"All_names\"])\n",
    "print(df)\n",
    "#df.to_csv(\"polyname_example/all_names.txt\", header = True, index = False)"
   ]
  },
  {
   "cell_type": "code",
   "execution_count": 3,
   "id": "aea4b8b3",
   "metadata": {},
   "outputs": [],
   "source": [
    "#RUN CDE ON a DIR of JSON FILES WITH ARTICLES\n",
    "#using the functions, write a file path where all articles are (15 JSON articles for this example)\n",
    "#path to directory of json article files\n",
    "file_path = 'cde_extract_example/test_articles_html'\n",
    "#loop through directory and generate a path to each filename\n",
    "for filename in os.listdir(file_path):\n",
    "    file = \"{}/{}\".format(file_path,filename)\n",
    "    #run cde_func on each file to get a list of CEMS\n",
    "    new_list = cde_func(file)\n",
    "    #run uppercase function on list outputed from cde_func\n",
    "    final_list = uppercase(new_list)\n",
    "    #write a pandas dataframe with the list then write it to a text file with/without header\n",
    "    df = pd.DataFrame(final_list, columns = [\"Final_Chemical_Entities\"])\n",
    "    df.to_csv(\"cde_extract_example/{}.txt\".format(filename), header = False, index = False)\n",
    "    \n",
    "    "
   ]
  },
  {
   "cell_type": "code",
   "execution_count": 4,
   "id": "4fe275ed",
   "metadata": {},
   "outputs": [
    {
     "name": "stdout",
     "output_type": "stream",
     "text": [
      "['cde_extract_example/all_articles/example15.json.txt', 'cde_extract_example/all_articles/example14.json.txt', 'cde_extract_example/all_articles/example8.json.txt', 'cde_extract_example/all_articles/example9.json.txt', 'cde_extract_example/all_articles/example2.json.txt', 'cde_extract_example/all_articles/example3.json.txt', 'cde_extract_example/all_articles/example12.json.txt', 'cde_extract_example/all_articles/example13.json.txt', 'cde_extract_example/all_articles/example5.json.txt', 'cde_extract_example/all_articles/example4.json.txt', 'cde_extract_example/all_articles/example1.json.txt', 'cde_extract_example/all_articles/example6.json.txt', 'cde_extract_example/all_articles/example7.json.txt', 'cde_extract_example/all_articles/example11.json.txt', 'cde_extract_example/all_articles/example10.json.txt']\n",
      "                                              All_Names\n",
      "0                                            Amino acid\n",
      "1                                           Amino acids\n",
      "2                                              Hydrogen\n",
      "3                                                   Phe\n",
      "4     Nh3 ch(cooh)rnh3 k2 h r resznh3ch(cooh)rnh3 + ...\n",
      "...                                                 ...\n",
      "1317   111 1631 980 913 628 519 r2 1636 981 911 626 515\n",
      "1318                                 2,2'-ethanedithiol\n",
      "1319                                              Amido\n",
      "1320                                                C-n\n",
      "1321                                                 Mo\n",
      "\n",
      "[1322 rows x 1 columns]\n"
     ]
    }
   ],
   "source": [
    "#after you have a directory with 15 textfiles you want to combine them into a single textfile and remove duplicates\n",
    "#write a file path to text files with extracted names\n",
    "file_path = 'cde_extract_example/all_articles'\n",
    "#run combine name to get a final textfile that is names \"all_names.txt\"\n",
    "combine_files_cde(file_path)\n",
    "new_list = remove_duplicate_cde(\"all_names.txt\")\n",
    "final_df = pd.DataFrame(new_list, columns = ['All_Names'])\n",
    "print(final_df)\n",
    "final_df.to_csv(\"cde_extract_example/Final_Cems.txt\", header = True, index = False)"
   ]
  },
  {
   "cell_type": "code",
   "execution_count": 2,
   "id": "3a1019cf",
   "metadata": {},
   "outputs": [],
   "source": [
    "\n"
   ]
  },
  {
   "cell_type": "code",
   "execution_count": null,
   "id": "f53f67cd",
   "metadata": {},
   "outputs": [],
   "source": []
  }
 ],
 "metadata": {
  "kernelspec": {
   "display_name": "Python 3",
   "language": "python",
   "name": "python3"
  },
  "language_info": {
   "codemirror_mode": {
    "name": "ipython",
    "version": 3
   },
   "file_extension": ".py",
   "mimetype": "text/x-python",
   "name": "python",
   "nbconvert_exporter": "python",
   "pygments_lexer": "ipython3",
   "version": "3.8.8"
  }
 },
 "nbformat": 4,
 "nbformat_minor": 5
}
