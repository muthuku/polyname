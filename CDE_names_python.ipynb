{
 "cells": [
  {
   "cell_type": "code",
   "execution_count": 3,
   "id": "ca234fc4",
   "metadata": {},
   "outputs": [],
   "source": [
    "from polyname import cde_func\n",
    "from polyname import uppercase\n",
    "from polyname import combine_name_cde\n",
    "from polyname import remove_duplicate_cde\n",
    "from polyname import command_line\n",
    "import pandas as pd\n",
    "import os"
   ]
  },
  {
   "cell_type": "code",
   "execution_count": 5,
   "id": "ae386b4c",
   "metadata": {},
   "outputs": [
    {
     "name": "stdout",
     "output_type": "stream",
     "text": [
      "                              Final_Chemical_Entities\n",
      "0   Poly(3-hydroxybutyrate)\\npoly(3-hydroxybutyrat...\n",
      "1                                       Polydioxanone\n",
      "2                                  Poly(lactic\\nacid)\n",
      "3                                                Phas\n",
      "4                                            Gelatins\n",
      "5                                              Vicryl\n",
      "6                                                 Pga\n",
      "7                                             Landðll\n",
      "8                                              Biopol\n",
      "9                             Poly(hydroxyalkanoate)s\n",
      "10                                               Phbv\n",
      "11                                         Polyesters\n",
      "12                                           Lactomer\n",
      "13                                            Britain\n",
      "14                                               Pack\n",
      "15                                       Polyethylene\n",
      "16                                              Dexon\n",
      "17                                          Petroleum\n",
      "18                                                Pla\n",
      "19                                         Polyoleðns\n",
      "20                                Poly(glycolic acid)\n",
      "21                                               P3hb\n",
      "22                                             T ighe\n",
      "23                                      Polypropylene\n",
      "24                                          70·7\\n3·2\n",
      "25                                            Beneðts\n",
      "26                                     Poly(a-ester)s\n",
      "27                                  Poly(p-dioxanone)\n",
      "28                                        Polystyrene\n",
      "29                                            Naphtha\n",
      "30                                        Packaging.8\n",
      "31                                             Nickel\n",
      "32                                     Polycarbonates\n",
      "33                                          Polyester\n",
      "34                                               Plla\n",
      "35                                              Vinyl\n",
      "36                                                Pcl\n",
      "37                                  Birmingham b4 7et\n",
      "38                                               Pgla\n",
      "39                                     Polyanhydrides\n",
      "40                                     Polydioxanones\n",
      "41                                               Pira\n",
      "42                                             Oxygen\n",
      "43                                 Poly(caprolactone)\n",
      "44                                            Methane\n",
      "45                                Poly(vinyl alcohol)\n",
      "46                                       Plastic fate\n",
      "47                                                Pva\n"
     ]
    }
   ],
   "source": [
    "#RUN CDE ON ONE JSON FILE\n",
    "#variable set to path of a file\n",
    "file_path = 'cde_extract_example/example_article.pdf'\n",
    "#run cde_func which extracts all chemical entities and removes duplicates\n",
    "new_list = cde_func(file_path)\n",
    "#run upper case to make all terms capitalized \n",
    "final_list = uppercase(new_list)\n",
    "df = pd.DataFrame(final_list, columns = [\"Final_Chemical_Entities\"])\n",
    "print(df)\n",
    "df.to_csv(\"cde_extract_example/poly_exam_pdf.txt\", header = True, index = False)"
   ]
  },
  {
   "cell_type": "code",
   "execution_count": 16,
   "id": "aea4b8b3",
   "metadata": {},
   "outputs": [],
   "source": [
    "#RUN CDE ON a DIR of JSON FILES WITH ARTICLES\n",
    "#using the functions, write a file path where all articles are (15 JSON articles for this example)\n",
    "#path to directory of json article files\n",
    "file_path = 'cde_extract_example/test_articles_html'\n",
    "#loop through directory and generate a path to each filename\n",
    "for filename in os.listdir(file_path):\n",
    "    file = \"{}/{}\".format(file_path,filename)\n",
    "    #run cde_func on each file to get a list of CEMS\n",
    "    new_list = cde_func(file)\n",
    "    #run uppercase function on list outputed from cde_func\n",
    "    final_list = uppercase(new_list)\n",
    "    #write a pandas dataframe with the list then write it to a text file with/without header\n",
    "    df = pd.DataFrame(final_list, columns = [\"Final_Chemical_Entities\"])\n",
    "    df.to_csv(\"cde_extract_example/{}.txt\".format(filename), header = False, index = False)\n",
    "    \n",
    "    "
   ]
  },
  {
   "cell_type": "code",
   "execution_count": 4,
   "id": "4fe275ed",
   "metadata": {},
   "outputs": [
    {
     "name": "stdout",
     "output_type": "stream",
     "text": [
      "['cde_extract_example/all_articles/example15.json.txt', 'cde_extract_example/all_articles/example14.json.txt', 'cde_extract_example/all_articles/example8.json.txt', 'cde_extract_example/all_articles/example9.json.txt', 'cde_extract_example/all_articles/example2.json.txt', 'cde_extract_example/all_articles/example3.json.txt', 'cde_extract_example/all_articles/example12.json.txt', 'cde_extract_example/all_articles/example13.json.txt', 'cde_extract_example/all_articles/example5.json.txt', 'cde_extract_example/all_articles/example4.json.txt', 'cde_extract_example/all_articles/example1.json.txt', 'cde_extract_example/all_articles/example6.json.txt', 'cde_extract_example/all_articles/example7.json.txt', 'cde_extract_example/all_articles/example11.json.txt', 'cde_extract_example/all_articles/example10.json.txt']\n",
      "                                             Final_Cems\n",
      "0                                            Amino acid\n",
      "1                                           Amino acids\n",
      "2                                              Hydrogen\n",
      "3                                                   Phe\n",
      "4     Nh3 ch(cooh)rnh3 k2 h r resznh3ch(cooh)rnh3 + ...\n",
      "...                                                 ...\n",
      "1317   111 1631 980 913 628 519 r2 1636 981 911 626 515\n",
      "1318                                 2,2'-ethanedithiol\n",
      "1319                                              Amido\n",
      "1320                                                C-n\n",
      "1321                                                 Mo\n",
      "\n",
      "[1322 rows x 1 columns]\n"
     ]
    }
   ],
   "source": [
    "file_path = 'cde_extract_example/all_articles'\n",
    "combine_name_cde(file_path)\n",
    "new_list = remove_duplicate_cde(\"all_names.txt\")\n",
    "final_df = pd.DataFrame(new_list, columns = ['Final_Cems'])\n",
    "print(final_df)\n",
    "final_df.to_csv(\"cde_extract_example/Final_Cems.txt\", header = True, index = False)"
   ]
  },
  {
   "cell_type": "code",
   "execution_count": 2,
   "id": "3a1019cf",
   "metadata": {},
   "outputs": [],
   "source": [
    "file = \"example2.json\"\n",
    "command_line(file)\n"
   ]
  },
  {
   "cell_type": "code",
   "execution_count": null,
   "id": "f53f67cd",
   "metadata": {},
   "outputs": [],
   "source": []
  }
 ],
 "metadata": {
  "kernelspec": {
   "display_name": "Python 3",
   "language": "python",
   "name": "python3"
  },
  "language_info": {
   "codemirror_mode": {
    "name": "ipython",
    "version": 3
   },
   "file_extension": ".py",
   "mimetype": "text/x-python",
   "name": "python",
   "nbconvert_exporter": "python",
   "pygments_lexer": "ipython3",
   "version": "3.8.8"
  }
 },
 "nbformat": 4,
 "nbformat_minor": 5
}
