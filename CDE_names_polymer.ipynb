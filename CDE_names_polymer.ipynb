{
 "cells": [
  {
   "cell_type": "code",
   "execution_count": 11,
   "id": "ca234fc4",
   "metadata": {},
   "outputs": [],
   "source": [
    "from polyname import cde_func\n",
    "from polyname import uppercase\n",
    "import pandas as pd\n",
    "import os"
   ]
  },
  {
   "cell_type": "code",
   "execution_count": 12,
   "id": "ae386b4c",
   "metadata": {},
   "outputs": [
    {
     "name": "stdout",
     "output_type": "stream",
     "text": [
      "            Final_Chemical_Entities\n",
      "0                          Methanol\n",
      "1                Poly(vinylalcohol)\n",
      "2                       Cadmium(ii)\n",
      "3                           Cadmium\n",
      "4                  Poly(egdma-hema)\n",
      "..                              ...\n",
      "67                 Chelating agents\n",
      "68                             Zinc\n",
      "69                       Chichester\n",
      "70                     Aromatic c-n\n",
      "71  Alkali blue attached poly(egdma\n",
      "\n",
      "[72 rows x 1 columns]\n"
     ]
    }
   ],
   "source": [
    "#RUN CDE ON ONE JSON FILE\n",
    "#variable set to path of a file\n",
    "file_path = 'cde_extract_example/test_articles_html/example1.json'\n",
    "#run cde_func which extracts all chemical entities and removes duplicates\n",
    "new_list = cde_func(file_path)\n",
    "#run upper case to make all terms capitalized \n",
    "final_list = uppercase(new_list)\n",
    "df = pd.DataFrame(final_list, columns = [\"Final_Chemical_Entities\"])\n",
    "print(df)\n",
    "df.to_csv(\"cde_extract_example/example1.txt\", header = True, index = False)"
   ]
  },
  {
   "cell_type": "code",
   "execution_count": 16,
   "id": "aea4b8b3",
   "metadata": {},
   "outputs": [],
   "source": [
    "#RUN CDE ON a DIR of JSON FILES WITH ARTICLES\n",
    "#using the functions, write a file path where all articles are (15 JSON articles for this example)\n",
    "#path to directory of json article files\n",
    "file_path = 'cde_extract_example/test_articles_html'\n",
    "#loop through directory and generate a path to each filename\n",
    "for filename in os.listdir(file_path):\n",
    "    file = \"{}/{}\".format(file_path,filename)\n",
    "    #run cde_func on each file to get a list of CEMS\n",
    "    new_list = cde_func(file)\n",
    "    #run uppercase function on list outputed from cde_func\n",
    "    final_list = uppercase(new_list)\n",
    "    #write a pandas dataframe with the list then write it to a text file with/without header\n",
    "    df = pd.DataFrame(final_list, columns = [\"Final_Chemical_Entities\"])\n",
    "    df.to_csv(\"cde_extract_example/{}.txt\".format(filename), header = False, index = False)\n",
    "    \n",
    "    "
   ]
  },
  {
   "cell_type": "code",
   "execution_count": null,
   "id": "4fe275ed",
   "metadata": {},
   "outputs": [],
   "source": []
  }
 ],
 "metadata": {
  "kernelspec": {
   "display_name": "Python 3",
   "language": "python",
   "name": "python3"
  },
  "language_info": {
   "codemirror_mode": {
    "name": "ipython",
    "version": 3
   },
   "file_extension": ".py",
   "mimetype": "text/x-python",
   "name": "python",
   "nbconvert_exporter": "python",
   "pygments_lexer": "ipython3",
   "version": "3.8.8"
  }
 },
 "nbformat": 4,
 "nbformat_minor": 5
}
