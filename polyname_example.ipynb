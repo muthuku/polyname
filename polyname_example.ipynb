{
 "cells": [
  {
   "cell_type": "code",
   "execution_count": 1,
   "id": "d7723f9b",
   "metadata": {},
   "outputs": [],
   "source": [
    "from polyname import check_database\n",
    "from polyname import remove_duplicates\n",
    "from polyname import search_names\n",
    "from polyname import polymer_extract\n",
    "from polyname import strip_poly\n",
    "from polyname import get_pubchem_smiles\n",
    "from polyname import get_cirpy_smiles\n",
    "from polyname import get_pubchem_names\n",
    "from polyname import get_cirpy_names\n",
    "from polyname import lowercase\n",
    "import pandas as pd\n"
   ]
  },
  {
   "cell_type": "code",
   "execution_count": 2,
   "id": "7fbcd3a3",
   "metadata": {},
   "outputs": [
    {
     "name": "stdout",
     "output_type": "stream",
     "text": [
      "                                  Isolated_poly_names\n",
      "0   Poly(3-hydroxybutyrate\\npoly3-hydroxybutyrate-...\n",
      "1                                         Poly(ester)\n",
      "2                                     Poly(dioxanone)\n",
      "3                              Poly(hydroxyalkanoate)\n",
      "4                                     Poly(anhydride)\n",
      "5                                       Poly(a-ester)\n",
      "6                                     Poly(dioxanone)\n",
      "7                                 Poly(glycolic acid)\n",
      "8                                     Poly(carbonate)\n",
      "9                                       Poly(styrene)\n",
      "10                                        Poly(oleðn)\n",
      "11  Poly(3-hydroxybutyrate\\npoly3-hydroxybutyrate-...\n",
      "12                                    Poly(propylene)\n",
      "13                                 Poly(lactic\\nacid)\n",
      "14                                     Poly(ethylene)\n",
      "15                                 Poly(caprolactone)\n",
      "16                                  Poly(p-dioxanone)\n",
      "17                                        Poly(ester)\n",
      "18                                Poly(vinyl alcohol)\n"
     ]
    }
   ],
   "source": [
    "#POLYMER EXTRACTION STEP\n",
    "#Input : chemical names outputted by the extraction step\n",
    "all_names_path = \"cde_extract_example/poly_exam_pdf.txt\"\n",
    "#isolate the polymers\n",
    "polymer_list = polymer_extract(all_names_path)\n",
    "#print DF\n",
    "#convert it to dataframe and write to a textfile with all isolated polymer names\n",
    "data = pd.DataFrame (polymer_list, columns = ['Isolated_poly_names'])\n",
    "print(data)\n",
    "data.to_csv(\"polyname_example/poly_exam_final_names.txt\", index = False, header = False)"
   ]
  },
  {
   "cell_type": "code",
   "execution_count": 6,
   "id": "8082d48f",
   "metadata": {},
   "outputs": [
    {
     "name": "stdout",
     "output_type": "stream",
     "text": [
      "['\"Poly(3-hydroxybutyrate', 'poly3-hydroxybutyrate-co-3-hydroxyvalerate)\"', 'Poly(ester)', 'Poly(dioxanone)', 'Poly(hydroxyalkanoate)', 'Poly(anhydride)', 'Poly(a-ester)', 'Poly(dioxanone)', 'Poly(glycolic acid)', 'Poly(carbonate)', 'Poly(styrene)', 'Poly(oleðn)', '\"Poly(3-hydroxybutyrate', 'poly3-hydroxybutyrate-co-3-hydroxyvalerate)\"', 'Poly(propylene)', '\"Poly(lactic', 'acid)\"', 'Poly(ethylene)', 'Poly(caprolactone)', 'Poly(p-dioxanone)', 'Poly(ester)', 'Poly(vinyl alcohol)']\n",
      "     Polymer Names Monomer Smiles\n",
      "0   Poly(ethylene)            C=C\n",
      "1  Poly(propylene)           C=CC\n",
      "2    Poly(styrene)    C=Cc1ccccc1\n",
      "['\"Poly(3-hydroxybutyrate', 'poly3-hydroxybutyrate-co-3-hydroxyvalerate)\"', 'Poly(ester)', 'Poly(dioxanone)', 'Poly(hydroxyalkanoate)', 'Poly(anhydride)', 'Poly(a-ester)', 'Poly(glycolic acid)', 'Poly(carbonate)', 'Poly(styrene)', 'Poly(oleðn)', 'Poly(propylene)', '\"Poly(lactic', 'acid)\"', 'Poly(ethylene)', 'Poly(caprolactone)', 'Poly(p-dioxanone)', 'Poly(vinyl alcohol)']\n"
     ]
    }
   ],
   "source": [
    "#CHECK DATABASE STEP\n",
    "#Input : database file name and extracted polymers file (poly_exam_final_names.txt)\n",
    "database_path = \"polyname_example/polyname_smiles_test.csv\"\n",
    "all_polymers = \"polyname_example/poly_exam_final_names.txt\"\n",
    "#check database for each polymer name and remove duplicates\n",
    "name,smile = check_database(all_polymers,database_path)\n",
    "final_name,final_smile = remove_duplicates(name,smile)\n",
    "\n",
    "#add polymer names and monomer smiles \n",
    "df = pd.DataFrame(final_name, columns = [\"Polymer Names\"])\n",
    "df.insert(1,'Monomer Smiles', final_smile)\n",
    "print(df)\n",
    "df.to_csv('polyname_example/database_extract.csv', index = None)\n",
    "\n",
    "#return a list with polymer names not found in database, Input: the all polymers names and final names found in DB\n",
    "search_name = search_names(all_polymers,final_name)\n",
    "print(search_name)\n",
    "#write the names not found in DB into a df2\n",
    "lowercase_poly = lowercase(search_name)\n",
    "df2 = pd.DataFrame(lowercase_poly, columns = [\"polymername\"])\n",
    "df2.to_csv('polyname_example/polymer_extract_still.csv', index = None)"
   ]
  },
  {
   "cell_type": "code",
   "execution_count": 9,
   "id": "f59aad70",
   "metadata": {},
   "outputs": [
    {
     "name": "stdout",
     "output_type": "stream",
     "text": [
      "                                    polymername\n",
      "0                        poly(3-hydroxybutyrate\n",
      "1   poly3-hydroxybutyrate-co-3-hydroxyvalerate)\n",
      "2                                   poly(ester)\n",
      "3                               poly(dioxanone)\n",
      "4                        poly(hydroxyalkanoate)\n",
      "5                               poly(anhydride)\n",
      "6                                 poly(a-ester)\n",
      "7                           poly(glycolic acid)\n",
      "8                               poly(carbonate)\n",
      "9                                 poly(styrene)\n",
      "10                                  poly(oleðn)\n",
      "11                              poly(propylene)\n",
      "12                            poly(lactic acid)\n",
      "13                               poly(ethylene)\n",
      "14                           poly(caprolactone)\n",
      "15                            poly(p-dioxanone)\n",
      "16                          poly(vinyl alcohol)\n",
      "                                       polyname\n",
      "0                        poly(3-hydroxybutyrate\n",
      "1   poly3-hydroxybutyrate-co-3-hydroxyvalerate)\n",
      "2                                   poly(ester)\n",
      "3                               poly(dioxanone)\n",
      "4                        poly(hydroxyalkanoate)\n",
      "5                               poly(anhydride)\n",
      "6                                 poly(a-ester)\n",
      "7                           poly(glycolic acid)\n",
      "8                               poly(carbonate)\n",
      "9                                 poly(styrene)\n",
      "10                                  poly(oleðn)\n",
      "11                              poly(propylene)\n",
      "12                            poly(lactic acid)\n",
      "13                               poly(ethylene)\n",
      "14                           poly(caprolactone)\n",
      "15                            poly(p-dioxanone)\n",
      "16                          poly(vinyl alcohol)\n",
      "                                       polyname stripped_monomer_name\n",
      "0                        poly(3-hydroxybutyrate    [3-hydroxybutyrat]\n",
      "1   poly3-hydroxybutyrate-co-3-hydroxyvalerate)    [3-hydroxybutyrat]\n",
      "2                                   poly(ester)               [ester]\n",
      "3                               poly(dioxanone)           [dioxanone]\n",
      "4                        poly(hydroxyalkanoate)    [hydroxyalkanoate]\n",
      "5                               poly(anhydride)           [anhydride]\n",
      "6                                 poly(a-ester)             [a-ester]\n",
      "7                           poly(glycolic acid)       [glycolic acid]\n",
      "8                               poly(carbonate)           [carbonate]\n",
      "9                                 poly(styrene)             [styrene]\n",
      "10                                  poly(oleðn)               [oleðn]\n",
      "11                              poly(propylene)           [propylene]\n",
      "12                            poly(lactic acid)         [lactic acid]\n",
      "13                               poly(ethylene)            [ethylene]\n",
      "14                           poly(caprolactone)        [caprolactone]\n",
      "15                            poly(p-dioxanone)         [p-dioxanone]\n",
      "16                          poly(vinyl alcohol)       [vinyl alcohol]\n"
     ]
    },
    {
     "ename": "NameError",
     "evalue": "name 'mmane' is not defined",
     "output_type": "error",
     "traceback": [
      "\u001b[0;31m---------------------------------------------------------------------------\u001b[0m",
      "\u001b[0;31mNameError\u001b[0m                                 Traceback (most recent call last)",
      "\u001b[0;32m<ipython-input-9-8b59df3e6953>\u001b[0m in \u001b[0;36m<module>\u001b[0;34m\u001b[0m\n\u001b[1;32m     15\u001b[0m \u001b[0mdfnames2\u001b[0m\u001b[0;34m[\u001b[0m\u001b[0;34m'Pubchem Smiles'\u001b[0m\u001b[0;34m]\u001b[0m \u001b[0;34m=\u001b[0m \u001b[0mmonomer_names2\u001b[0m\u001b[0;34m.\u001b[0m\u001b[0mapply\u001b[0m\u001b[0;34m(\u001b[0m\u001b[0;32mlambda\u001b[0m \u001b[0mrow\u001b[0m\u001b[0;34m:\u001b[0m \u001b[0mget_pubchem_smiles\u001b[0m\u001b[0;34m(\u001b[0m\u001b[0mrow\u001b[0m\u001b[0;34m)\u001b[0m\u001b[0;34m)\u001b[0m\u001b[0;34m\u001b[0m\u001b[0;34m\u001b[0m\u001b[0m\n\u001b[1;32m     16\u001b[0m \u001b[0mdfnames2\u001b[0m\u001b[0;34m[\u001b[0m\u001b[0;34m'Cirpy Monomer Smiles'\u001b[0m\u001b[0;34m]\u001b[0m \u001b[0;34m=\u001b[0m \u001b[0mmonomer_names2\u001b[0m\u001b[0;34m.\u001b[0m\u001b[0mapply\u001b[0m\u001b[0;34m(\u001b[0m\u001b[0;32mlambda\u001b[0m \u001b[0mrow\u001b[0m\u001b[0;34m:\u001b[0m \u001b[0mget_cirpy_smiles\u001b[0m\u001b[0;34m(\u001b[0m\u001b[0mrow\u001b[0m\u001b[0;34m)\u001b[0m\u001b[0;34m)\u001b[0m\u001b[0;34m\u001b[0m\u001b[0;34m\u001b[0m\u001b[0m\n\u001b[0;32m---> 17\u001b[0;31m \u001b[0mdfnames2\u001b[0m\u001b[0;34m[\u001b[0m\u001b[0;34m'Pubchem Names'\u001b[0m\u001b[0;34m]\u001b[0m \u001b[0;34m=\u001b[0m \u001b[0mmonomer_names2\u001b[0m\u001b[0;34m.\u001b[0m\u001b[0mapply\u001b[0m\u001b[0;34m(\u001b[0m\u001b[0;32mlambda\u001b[0m \u001b[0mrow\u001b[0m\u001b[0;34m:\u001b[0m \u001b[0mget_pubchem_names\u001b[0m\u001b[0;34m(\u001b[0m\u001b[0mrow\u001b[0m\u001b[0;34m)\u001b[0m\u001b[0;34m)\u001b[0m\u001b[0;34m\u001b[0m\u001b[0;34m\u001b[0m\u001b[0m\n\u001b[0m\u001b[1;32m     18\u001b[0m \u001b[0mdfnames2\u001b[0m\u001b[0;34m[\u001b[0m\u001b[0;34m'Cirpy Monomer Iupac Names'\u001b[0m\u001b[0;34m]\u001b[0m \u001b[0;34m=\u001b[0m \u001b[0mmonomer_names2\u001b[0m\u001b[0;34m.\u001b[0m\u001b[0mapply\u001b[0m\u001b[0;34m(\u001b[0m\u001b[0;32mlambda\u001b[0m \u001b[0mrow\u001b[0m\u001b[0;34m:\u001b[0m \u001b[0mget_cirpy_names\u001b[0m\u001b[0;34m(\u001b[0m\u001b[0mrow\u001b[0m\u001b[0;34m)\u001b[0m\u001b[0;34m)\u001b[0m\u001b[0;34m\u001b[0m\u001b[0;34m\u001b[0m\u001b[0m\n\u001b[1;32m     19\u001b[0m \u001b[0mprint\u001b[0m\u001b[0;34m(\u001b[0m\u001b[0mdfnames2\u001b[0m\u001b[0;34m)\u001b[0m\u001b[0;34m\u001b[0m\u001b[0;34m\u001b[0m\u001b[0m\n",
      "\u001b[0;32m~/anaconda3/lib/python3.8/site-packages/pandas/core/series.py\u001b[0m in \u001b[0;36mapply\u001b[0;34m(self, func, convert_dtype, args, **kwargs)\u001b[0m\n\u001b[1;32m   4354\u001b[0m         \u001b[0mdtype\u001b[0m\u001b[0;34m:\u001b[0m \u001b[0mfloat64\u001b[0m\u001b[0;34m\u001b[0m\u001b[0;34m\u001b[0m\u001b[0m\n\u001b[1;32m   4355\u001b[0m         \"\"\"\n\u001b[0;32m-> 4356\u001b[0;31m         \u001b[0;32mreturn\u001b[0m \u001b[0mSeriesApply\u001b[0m\u001b[0;34m(\u001b[0m\u001b[0mself\u001b[0m\u001b[0;34m,\u001b[0m \u001b[0mfunc\u001b[0m\u001b[0;34m,\u001b[0m \u001b[0mconvert_dtype\u001b[0m\u001b[0;34m,\u001b[0m \u001b[0margs\u001b[0m\u001b[0;34m,\u001b[0m \u001b[0mkwargs\u001b[0m\u001b[0;34m)\u001b[0m\u001b[0;34m.\u001b[0m\u001b[0mapply\u001b[0m\u001b[0;34m(\u001b[0m\u001b[0;34m)\u001b[0m\u001b[0;34m\u001b[0m\u001b[0;34m\u001b[0m\u001b[0m\n\u001b[0m\u001b[1;32m   4357\u001b[0m \u001b[0;34m\u001b[0m\u001b[0m\n\u001b[1;32m   4358\u001b[0m     def _reduce(\n",
      "\u001b[0;32m~/anaconda3/lib/python3.8/site-packages/pandas/core/apply.py\u001b[0m in \u001b[0;36mapply\u001b[0;34m(self)\u001b[0m\n\u001b[1;32m   1034\u001b[0m             \u001b[0;32mreturn\u001b[0m \u001b[0mself\u001b[0m\u001b[0;34m.\u001b[0m\u001b[0mapply_str\u001b[0m\u001b[0;34m(\u001b[0m\u001b[0;34m)\u001b[0m\u001b[0;34m\u001b[0m\u001b[0;34m\u001b[0m\u001b[0m\n\u001b[1;32m   1035\u001b[0m \u001b[0;34m\u001b[0m\u001b[0m\n\u001b[0;32m-> 1036\u001b[0;31m         \u001b[0;32mreturn\u001b[0m \u001b[0mself\u001b[0m\u001b[0;34m.\u001b[0m\u001b[0mapply_standard\u001b[0m\u001b[0;34m(\u001b[0m\u001b[0;34m)\u001b[0m\u001b[0;34m\u001b[0m\u001b[0;34m\u001b[0m\u001b[0m\n\u001b[0m\u001b[1;32m   1037\u001b[0m \u001b[0;34m\u001b[0m\u001b[0m\n\u001b[1;32m   1038\u001b[0m     \u001b[0;32mdef\u001b[0m \u001b[0magg\u001b[0m\u001b[0;34m(\u001b[0m\u001b[0mself\u001b[0m\u001b[0;34m)\u001b[0m\u001b[0;34m:\u001b[0m\u001b[0;34m\u001b[0m\u001b[0;34m\u001b[0m\u001b[0m\n",
      "\u001b[0;32m~/anaconda3/lib/python3.8/site-packages/pandas/core/apply.py\u001b[0m in \u001b[0;36mapply_standard\u001b[0;34m(self)\u001b[0m\n\u001b[1;32m   1090\u001b[0m                 \u001b[0;31m# List[Union[Callable[..., Any], str]]]]]\"; expected\u001b[0m\u001b[0;34m\u001b[0m\u001b[0;34m\u001b[0m\u001b[0;34m\u001b[0m\u001b[0m\n\u001b[1;32m   1091\u001b[0m                 \u001b[0;31m# \"Callable[[Any], Any]\"\u001b[0m\u001b[0;34m\u001b[0m\u001b[0;34m\u001b[0m\u001b[0;34m\u001b[0m\u001b[0m\n\u001b[0;32m-> 1092\u001b[0;31m                 mapped = lib.map_infer(\n\u001b[0m\u001b[1;32m   1093\u001b[0m                     \u001b[0mvalues\u001b[0m\u001b[0;34m,\u001b[0m\u001b[0;34m\u001b[0m\u001b[0;34m\u001b[0m\u001b[0m\n\u001b[1;32m   1094\u001b[0m                     \u001b[0mf\u001b[0m\u001b[0;34m,\u001b[0m  \u001b[0;31m# type: ignore[arg-type]\u001b[0m\u001b[0;34m\u001b[0m\u001b[0;34m\u001b[0m\u001b[0m\n",
      "\u001b[0;32m~/anaconda3/lib/python3.8/site-packages/pandas/_libs/lib.pyx\u001b[0m in \u001b[0;36mpandas._libs.lib.map_infer\u001b[0;34m()\u001b[0m\n",
      "\u001b[0;32m<ipython-input-9-8b59df3e6953>\u001b[0m in \u001b[0;36m<lambda>\u001b[0;34m(row)\u001b[0m\n\u001b[1;32m     15\u001b[0m \u001b[0mdfnames2\u001b[0m\u001b[0;34m[\u001b[0m\u001b[0;34m'Pubchem Smiles'\u001b[0m\u001b[0;34m]\u001b[0m \u001b[0;34m=\u001b[0m \u001b[0mmonomer_names2\u001b[0m\u001b[0;34m.\u001b[0m\u001b[0mapply\u001b[0m\u001b[0;34m(\u001b[0m\u001b[0;32mlambda\u001b[0m \u001b[0mrow\u001b[0m\u001b[0;34m:\u001b[0m \u001b[0mget_pubchem_smiles\u001b[0m\u001b[0;34m(\u001b[0m\u001b[0mrow\u001b[0m\u001b[0;34m)\u001b[0m\u001b[0;34m)\u001b[0m\u001b[0;34m\u001b[0m\u001b[0;34m\u001b[0m\u001b[0m\n\u001b[1;32m     16\u001b[0m \u001b[0mdfnames2\u001b[0m\u001b[0;34m[\u001b[0m\u001b[0;34m'Cirpy Monomer Smiles'\u001b[0m\u001b[0;34m]\u001b[0m \u001b[0;34m=\u001b[0m \u001b[0mmonomer_names2\u001b[0m\u001b[0;34m.\u001b[0m\u001b[0mapply\u001b[0m\u001b[0;34m(\u001b[0m\u001b[0;32mlambda\u001b[0m \u001b[0mrow\u001b[0m\u001b[0;34m:\u001b[0m \u001b[0mget_cirpy_smiles\u001b[0m\u001b[0;34m(\u001b[0m\u001b[0mrow\u001b[0m\u001b[0;34m)\u001b[0m\u001b[0;34m)\u001b[0m\u001b[0;34m\u001b[0m\u001b[0;34m\u001b[0m\u001b[0m\n\u001b[0;32m---> 17\u001b[0;31m \u001b[0mdfnames2\u001b[0m\u001b[0;34m[\u001b[0m\u001b[0;34m'Pubchem Names'\u001b[0m\u001b[0;34m]\u001b[0m \u001b[0;34m=\u001b[0m \u001b[0mmonomer_names2\u001b[0m\u001b[0;34m.\u001b[0m\u001b[0mapply\u001b[0m\u001b[0;34m(\u001b[0m\u001b[0;32mlambda\u001b[0m \u001b[0mrow\u001b[0m\u001b[0;34m:\u001b[0m \u001b[0mget_pubchem_names\u001b[0m\u001b[0;34m(\u001b[0m\u001b[0mrow\u001b[0m\u001b[0;34m)\u001b[0m\u001b[0;34m)\u001b[0m\u001b[0;34m\u001b[0m\u001b[0;34m\u001b[0m\u001b[0m\n\u001b[0m\u001b[1;32m     18\u001b[0m \u001b[0mdfnames2\u001b[0m\u001b[0;34m[\u001b[0m\u001b[0;34m'Cirpy Monomer Iupac Names'\u001b[0m\u001b[0;34m]\u001b[0m \u001b[0;34m=\u001b[0m \u001b[0mmonomer_names2\u001b[0m\u001b[0;34m.\u001b[0m\u001b[0mapply\u001b[0m\u001b[0;34m(\u001b[0m\u001b[0;32mlambda\u001b[0m \u001b[0mrow\u001b[0m\u001b[0;34m:\u001b[0m \u001b[0mget_cirpy_names\u001b[0m\u001b[0;34m(\u001b[0m\u001b[0mrow\u001b[0m\u001b[0;34m)\u001b[0m\u001b[0;34m)\u001b[0m\u001b[0;34m\u001b[0m\u001b[0;34m\u001b[0m\u001b[0m\n\u001b[1;32m     19\u001b[0m \u001b[0mprint\u001b[0m\u001b[0;34m(\u001b[0m\u001b[0mdfnames2\u001b[0m\u001b[0;34m)\u001b[0m\u001b[0;34m\u001b[0m\u001b[0;34m\u001b[0m\u001b[0m\n",
      "\u001b[0;32m~/Documents/GitHub/polyname/polyname/monomer.py\u001b[0m in \u001b[0;36mget_pubchem_names\u001b[0;34m(monomer_name)\u001b[0m\n\u001b[1;32m    123\u001b[0m         \u001b[0mmname\u001b[0m \u001b[0;34m=\u001b[0m \u001b[0mname\u001b[0m\u001b[0;34m.\u001b[0m\u001b[0mreplace\u001b[0m\u001b[0;34m(\u001b[0m\u001b[0;34m\"(\"\u001b[0m\u001b[0;34m,\u001b[0m\u001b[0;34m\"\"\u001b[0m\u001b[0;34m)\u001b[0m\u001b[0;34m\u001b[0m\u001b[0;34m\u001b[0m\u001b[0m\n\u001b[1;32m    124\u001b[0m         \u001b[0mnmane\u001b[0m \u001b[0;34m=\u001b[0m \u001b[0mmname\u001b[0m\u001b[0;34m.\u001b[0m\u001b[0mreplace\u001b[0m\u001b[0;34m(\u001b[0m\u001b[0;34m\")\"\u001b[0m\u001b[0;34m,\u001b[0m\u001b[0;34m\"\"\u001b[0m\u001b[0;34m)\u001b[0m\u001b[0;34m\u001b[0m\u001b[0;34m\u001b[0m\u001b[0m\n\u001b[0;32m--> 125\u001b[0;31m         \u001b[0mresult\u001b[0m \u001b[0;34m=\u001b[0m \u001b[0mpcp\u001b[0m\u001b[0;34m.\u001b[0m\u001b[0mget_compounds\u001b[0m\u001b[0;34m(\u001b[0m\u001b[0mmname\u001b[0m\u001b[0;34m,\u001b[0m\u001b[0;34m'name'\u001b[0m\u001b[0;34m)\u001b[0m\u001b[0;34m\u001b[0m\u001b[0;34m\u001b[0m\u001b[0m\n\u001b[0m\u001b[1;32m    126\u001b[0m         \u001b[0;32mif\u001b[0m \u001b[0mresult\u001b[0m \u001b[0;34m==\u001b[0m \u001b[0;34m[\u001b[0m\u001b[0;34m]\u001b[0m\u001b[0;34m:\u001b[0m\u001b[0;34m\u001b[0m\u001b[0;34m\u001b[0m\u001b[0m\n\u001b[1;32m    127\u001b[0m             \u001b[0mnames_list\u001b[0m\u001b[0;34m.\u001b[0m\u001b[0mappend\u001b[0m\u001b[0;34m(\u001b[0m\u001b[0;34m\"None\"\u001b[0m\u001b[0;34m)\u001b[0m\u001b[0;34m\u001b[0m\u001b[0;34m\u001b[0m\u001b[0m\n",
      "\u001b[0;31mNameError\u001b[0m: name 'mmane' is not defined"
     ]
    }
   ],
   "source": [
    "#EXTRACT MONOMER SMILES NAMES come back to this\n",
    "#Extract monomer smiles from the polymers that still need to be extracted \n",
    "polymers_to_extract = 'polyname_example/polymer_extract_still.csv'\n",
    "#read textfile into dataframe\n",
    "data2 = pd.read_table(polymers_to_extract)\n",
    "print(data2)\n",
    "#get unique polymer names \n",
    "dfnames2 = pd.DataFrame(data2.polymername.unique(),columns=['polyname'])\n",
    "print(dfnames2)\n",
    "stripstrings = [['poly(',')'],['poly[(',')]'],['poly[',']'],['poly{','}'],['poly-','']]\n",
    "dfnames2['stripped_monomer_name'] = dfnames2.apply(lambda row: strip_poly(row,stripstrings),axis=1)\n",
    "print(dfnames2)\n",
    "#pubchem is busy\n",
    "monomer_names2 = dfnames2.apply(lambda row: strip_poly(row,stripstrings),axis=1)\n",
    "dfnames2['Pubchem Smiles'] = monomer_names2.apply(lambda row: get_pubchem_smiles(row))\n",
    "dfnames2['Cirpy Monomer Smiles'] = monomer_names2.apply(lambda row: get_cirpy_smiles(row))\n",
    "dfnames2['Pubchem Names'] = monomer_names2.apply(lambda row: get_pubchem_names(row))\n",
    "dfnames2['Cirpy Monomer Iupac Names'] = monomer_names2.apply(lambda row: get_cirpy_names(row))\n",
    "print(dfnames2)\n",
    "dfnames2.to_csv(\"polyname_example/example_all_only.csv\", index = False)"
   ]
  },
  {
   "cell_type": "code",
   "execution_count": null,
   "id": "1a4f1ea5",
   "metadata": {},
   "outputs": [],
   "source": []
  },
  {
   "cell_type": "code",
   "execution_count": null,
   "id": "1a5414cc",
   "metadata": {},
   "outputs": [],
   "source": []
  }
 ],
 "metadata": {
  "kernelspec": {
   "display_name": "Python 3",
   "language": "python",
   "name": "python3"
  },
  "language_info": {
   "codemirror_mode": {
    "name": "ipython",
    "version": 3
   },
   "file_extension": ".py",
   "mimetype": "text/x-python",
   "name": "python",
   "nbconvert_exporter": "python",
   "pygments_lexer": "ipython3",
   "version": "3.8.8"
  }
 },
 "nbformat": 4,
 "nbformat_minor": 5
}
